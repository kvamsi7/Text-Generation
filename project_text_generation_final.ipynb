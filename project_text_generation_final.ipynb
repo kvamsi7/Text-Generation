{
  "nbformat": 4,
  "nbformat_minor": 0,
  "metadata": {
    "colab": {
      "name": "project_text_generation_final.ipynb",
      "provenance": [],
      "collapsed_sections": [],
      "machine_shape": "hm",
      "include_colab_link": true
    },
    "kernelspec": {
      "name": "python3",
      "display_name": "Python 3"
    },
    "accelerator": "GPU"
  },
  "cells": [
    {
      "cell_type": "markdown",
      "metadata": {
        "id": "view-in-github",
        "colab_type": "text"
      },
      "source": [
        "<a href=\"https://colab.research.google.com/github/kvamsi7/Text-Generation/blob/main/project_text_generation_final.ipynb\" target=\"_parent\"><img src=\"https://colab.research.google.com/assets/colab-badge.svg\" alt=\"Open In Colab\"/></a>"
      ]
    },
    {
      "cell_type": "code",
      "metadata": {
        "id": "oZNHqp5lnxz7",
        "colab": {
          "base_uri": "https://localhost:8080/"
        },
        "outputId": "b7e68ea8-6c53-42ec-cc0b-bb4b5d8d98bb"
      },
      "source": [
        "#download the data and save it to poem.txt\n",
        "# using a the book from the gutenberg.org \n",
        "\n",
        "!wget https://www.gutenberg.org/files/1661/1661-0.txt -O book.txt"
      ],
      "execution_count": 1,
      "outputs": [
        {
          "output_type": "stream",
          "text": [
            "--2021-08-11 19:15:57--  https://www.gutenberg.org/files/1661/1661-0.txt\n",
            "Resolving www.gutenberg.org (www.gutenberg.org)... 152.19.134.47, 2610:28:3090:3000:0:bad:cafe:47\n",
            "Connecting to www.gutenberg.org (www.gutenberg.org)|152.19.134.47|:443... connected.\n",
            "HTTP request sent, awaiting response... 200 OK\n",
            "Length: 607430 (593K) [text/plain]\n",
            "Saving to: ‘book.txt’\n",
            "\n",
            "book.txt            100%[===================>] 593.19K  1.72MB/s    in 0.3s    \n",
            "\n",
            "2021-08-11 19:15:58 (1.72 MB/s) - ‘book.txt’ saved [607430/607430]\n",
            "\n"
          ],
          "name": "stdout"
        }
      ]
    },
    {
      "cell_type": "code",
      "metadata": {
        "id": "iHLcaBBEoLRd"
      },
      "source": [
        "#read the file in text string\n",
        "text = open('book.txt', 'r', encoding='utf-8').read()\n",
        "text = text.lower()"
      ],
      "execution_count": 2,
      "outputs": []
    },
    {
      "cell_type": "markdown",
      "metadata": {
        "id": "S7t4kgTgpaNM"
      },
      "source": [
        "Have a look over the text once "
      ]
    },
    {
      "cell_type": "code",
      "metadata": {
        "colab": {
          "base_uri": "https://localhost:8080/",
          "height": 154
        },
        "id": "Xo5f_zsCpMds",
        "outputId": "44589e8b-332a-4d1b-daf7-fd8d03271b85"
      },
      "source": [
        "text[:1000]"
      ],
      "execution_count": 6,
      "outputs": [
        {
          "output_type": "execute_result",
          "data": {
            "application/vnd.google.colaboratory.intrinsic+json": {
              "type": "string"
            },
            "text/plain": [
              "'\\ufeffthe project gutenberg ebook of the adventures of sherlock holmes, by arthur conan doyle\\n\\nthis ebook is for the use of anyone anywhere in the united states and\\nmost other parts of the world at no cost and with almost no restrictions\\nwhatsoever. you may copy it, give it away or re-use it under the terms\\nof the project gutenberg license included with this ebook or online at\\nwww.gutenberg.org. if you are not located in the united states, you\\nwill have to check the laws of the country where you are located before\\nusing this ebook.\\n\\ntitle: the adventures of sherlock holmes\\n\\nauthor: arthur conan doyle\\n\\nrelease date: november 29, 2002 [ebook #1661]\\n[most recently updated: may 20, 2019]\\n\\nlanguage: english\\n\\ncharacter set encoding: utf-8\\n\\nproduced by: an anonymous project gutenberg volunteer and jose menendez\\n\\n*** start of the project gutenberg ebook the adventures of sherlock holmes ***\\n\\ncover\\n\\n\\n\\n\\nthe adventures of sherlock holmes\\n\\nby arthur conan doyle\\n\\n\\ncontents\\n\\n   i.     a scandal in bohemi'"
            ]
          },
          "metadata": {
            "tags": []
          },
          "execution_count": 6
        }
      ]
    },
    {
      "cell_type": "code",
      "metadata": {
        "id": "NbUq1oKCotPP"
      },
      "source": [
        "#create list of sentences\n",
        "sentences = text.split('\\n')"
      ],
      "execution_count": 7,
      "outputs": []
    },
    {
      "cell_type": "code",
      "metadata": {
        "id": "ahnfFROrpg6C"
      },
      "source": [
        "# import the dependencies to preprocess the text data and making sequences\n",
        "\n",
        "import tensorflow as tf\n",
        "import keras\n",
        "from keras.preprocessing.text import Tokenizer\n",
        "from keras.preprocessing.sequence import pad_sequences"
      ],
      "execution_count": 8,
      "outputs": []
    },
    {
      "cell_type": "code",
      "metadata": {
        "id": "60_eT7er5qhQ"
      },
      "source": [
        "#initialize the tokenizer, which can work char by char\n",
        "tokenizer = Tokenizer(oov_token='<UNK>',char_level=False)"
      ],
      "execution_count": 32,
      "outputs": []
    },
    {
      "cell_type": "code",
      "metadata": {
        "id": "NQ-PNcaNAeCW"
      },
      "source": [
        "tokenizer.fit_on_texts(sentences)"
      ],
      "execution_count": 33,
      "outputs": []
    },
    {
      "cell_type": "code",
      "metadata": {
        "id": "3qu1rTY7NCxI",
        "colab": {
          "base_uri": "https://localhost:8080/"
        },
        "outputId": "1634edb9-20ff-4994-8046-efb9efe87998"
      },
      "source": [
        "vocab_size = len(tokenizer.word_index) + 1\n",
        "vocab_size"
      ],
      "execution_count": 35,
      "outputs": [
        {
          "output_type": "execute_result",
          "data": {
            "text/plain": [
              "8915"
            ]
          },
          "metadata": {
            "tags": []
          },
          "execution_count": 35
        }
      ]
    },
    {
      "cell_type": "code",
      "metadata": {
        "id": "ijgFGdsTGzPw"
      },
      "source": [
        "sequences = tokenizer.texts_to_sequences(sentences)"
      ],
      "execution_count": 36,
      "outputs": []
    },
    {
      "cell_type": "code",
      "metadata": {
        "id": "RaFyCfGE-vSi"
      },
      "source": [
        "input_sequences = []\n",
        "for sequence in sequences:\n",
        "  for i in range(1, len(sequence)):\n",
        "    n_gram_sequence = sequence[:i+1]\n",
        "    # print(n_gram_sequence)\n",
        "    input_sequences.append(n_gram_sequence)"
      ],
      "execution_count": 38,
      "outputs": []
    },
    {
      "cell_type": "code",
      "metadata": {
        "id": "J5RZLLmsAipB",
        "colab": {
          "base_uri": "https://localhost:8080/"
        },
        "outputId": "185e0356-3939-47c0-809d-f77c622353fd"
      },
      "source": [
        "print(input_sequences[0], input_sequences[1], input_sequences[2], input_sequences[3])"
      ],
      "execution_count": 39,
      "outputs": [
        {
          "output_type": "stream",
          "text": [
            "[4775, 145] [4775, 145, 132] [4775, 145, 132, 886] [4775, 145, 132, 886, 5]\n"
          ],
          "name": "stdout"
        }
      ]
    },
    {
      "cell_type": "code",
      "metadata": {
        "id": "-3mHT6TUBApU",
        "colab": {
          "base_uri": "https://localhost:8080/"
        },
        "outputId": "ffaebf99-f998-43d0-8988-d5f6706dfee0"
      },
      "source": [
        "#find the maximum length among sequences\n",
        "max_seq_len = max([len(seq) for seq in input_sequences])\n",
        "max_seq_len"
      ],
      "execution_count": 42,
      "outputs": [
        {
          "output_type": "execute_result",
          "data": {
            "text/plain": [
              "20"
            ]
          },
          "metadata": {
            "tags": []
          },
          "execution_count": 42
        }
      ]
    },
    {
      "cell_type": "code",
      "metadata": {
        "id": "mJXOYpf3nI0H"
      },
      "source": [
        "#we will keep the last value of the sequence as our target label and all values before that as input to sequence model"
      ],
      "execution_count": null,
      "outputs": []
    },
    {
      "cell_type": "code",
      "metadata": {
        "id": "r8mnnT6nBi5K"
      },
      "source": [
        "#pad the sequences to ensure that they are all of same length\n",
        "padded_sequences = pad_sequences(input_sequences, maxlen = max_seq_len)"
      ],
      "execution_count": 43,
      "outputs": []
    },
    {
      "cell_type": "code",
      "metadata": {
        "id": "GpvirsLgWPoU",
        "colab": {
          "base_uri": "https://localhost:8080/"
        },
        "outputId": "5f432dab-ec60-4c4b-8491-9bcaf1122cbe"
      },
      "source": [
        "print(padded_sequences[0], padded_sequences[1])"
      ],
      "execution_count": null,
      "outputs": [
        {
          "output_type": "stream",
          "text": [
            "[   0    0    0    0    0    0    0    0    0    0    0    0    0    0\n",
            "    0    0    0    0 4775  145] [   0    0    0    0    0    0    0    0    0    0    0    0    0    0\n",
            "    0    0    0 4775  145  132]\n"
          ],
          "name": "stdout"
        }
      ]
    },
    {
      "cell_type": "code",
      "metadata": {
        "id": "YYhboOBWCLb3"
      },
      "source": [
        "import numpy as np\n",
        "padded_sequences = np.array(padded_sequences)"
      ],
      "execution_count": 44,
      "outputs": []
    },
    {
      "cell_type": "code",
      "metadata": {
        "id": "o95ycmMVslav"
      },
      "source": [
        "# sparse representation\n",
        "# input = padded_sequences[:,0:-1] # will keep the all values as input but last column\n",
        "# labels = padded_sequences[:,-1] # keeping last column values as labels"
      ],
      "execution_count": 54,
      "outputs": []
    },
    {
      "cell_type": "code",
      "metadata": {
        "id": "8BW2NjBcCjLz",
        "colab": {
          "base_uri": "https://localhost:8080/"
        },
        "outputId": "46f12531-e219-42bb-ff5d-2161af8cbc9b"
      },
      "source": [
        "print(len(padded_sequences[0]))\n",
        "print(len(padded_sequences[1]))"
      ],
      "execution_count": null,
      "outputs": [
        {
          "output_type": "stream",
          "text": [
            "20\n",
            "20\n"
          ],
          "name": "stdout"
        }
      ]
    },
    {
      "cell_type": "code",
      "metadata": {
        "id": "KdvK9urMCZXC"
      },
      "source": [
        "#prepare training sequences and labels\n",
        "x = padded_sequences[:, : -1]\n",
        "labels = padded_sequences[:, -1]"
      ],
      "execution_count": 55,
      "outputs": []
    },
    {
      "cell_type": "code",
      "metadata": {
        "id": "zBMmN6-qMqKu",
        "colab": {
          "base_uri": "https://localhost:8080/"
        },
        "outputId": "c429aef2-57c6-4736-802a-a559b39fb8ac"
      },
      "source": [
        "labels.shape"
      ],
      "execution_count": 56,
      "outputs": [
        {
          "output_type": "execute_result",
          "data": {
            "text/plain": [
              "(101575,)"
            ]
          },
          "metadata": {
            "tags": []
          },
          "execution_count": 56
        }
      ]
    },
    {
      "cell_type": "code",
      "metadata": {
        "id": "wvrPC8n5Dw61"
      },
      "source": [
        "#to one hot encode the labels\n",
        "y = tf.keras.utils.to_categorical(labels, num_classes=vocab_size) # since discrete variables"
      ],
      "execution_count": 57,
      "outputs": []
    },
    {
      "cell_type": "code",
      "metadata": {
        "id": "ncT36ipmJaqR",
        "colab": {
          "base_uri": "https://localhost:8080/"
        },
        "outputId": "a8e1b478-9063-4053-876a-b701f04ebe7f"
      },
      "source": [
        "x.shape"
      ],
      "execution_count": 60,
      "outputs": [
        {
          "output_type": "execute_result",
          "data": {
            "text/plain": [
              "(101575, 19)"
            ]
          },
          "metadata": {
            "tags": []
          },
          "execution_count": 60
        }
      ]
    },
    {
      "cell_type": "code",
      "metadata": {
        "id": "AIdAL56IcTXW"
      },
      "source": [
        "#x = x.reshape(x.shape[0], x.shape[1], 1)"
      ],
      "execution_count": null,
      "outputs": []
    },
    {
      "cell_type": "code",
      "metadata": {
        "id": "dSSjSqj-JXrU",
        "colab": {
          "base_uri": "https://localhost:8080/"
        },
        "outputId": "cf547344-4994-4af0-89c6-9a19b2ee7341"
      },
      "source": [
        "y.shape"
      ],
      "execution_count": null,
      "outputs": [
        {
          "output_type": "execute_result",
          "data": {
            "text/plain": [
              "(101575, 8915)"
            ]
          },
          "metadata": {
            "tags": []
          },
          "execution_count": 23
        }
      ]
    },
    {
      "cell_type": "code",
      "metadata": {
        "id": "L_0XsvYhuZD1"
      },
      "source": [
        "# importing dependencies for defining the model\n",
        "\n",
        "from tensorflow.keras.models import Sequential\n",
        "from tensorflow.keras.layers import Embedding,Bidirectional,LSTM,Dense\n",
        "from tensorflow.keras.optimizers import Adam"
      ],
      "execution_count": 61,
      "outputs": []
    },
    {
      "cell_type": "code",
      "metadata": {
        "colab": {
          "base_uri": "https://localhost:8080/"
        },
        "id": "ONI-aWyWvaH8",
        "outputId": "6a4d8c59-780d-4033-a103-17874dd9f506"
      },
      "source": [
        "model = Sequential()\n",
        "model.add(Embedding(vocab_size,100,input_length=max_seq_len-1))\n",
        "model.add(Bidirectional(LSTM(256)))\n",
        "model.add(Dense(vocab_size,activation='softmax'))\n",
        "adam = Adam(learning_rate=0.01)\n",
        "\n",
        "\n",
        "model.compile(loss='categorical_crossentropy',optimizer=adam,metrics='acc')\n",
        "model.summary()"
      ],
      "execution_count": 79,
      "outputs": [
        {
          "output_type": "stream",
          "text": [
            "Model: \"sequential_1\"\n",
            "_________________________________________________________________\n",
            "Layer (type)                 Output Shape              Param #   \n",
            "=================================================================\n",
            "embedding_1 (Embedding)      (None, 19, 100)           891500    \n",
            "_________________________________________________________________\n",
            "bidirectional_1 (Bidirection (None, 512)               731136    \n",
            "_________________________________________________________________\n",
            "dense_1 (Dense)              (None, 8915)              4573395   \n",
            "=================================================================\n",
            "Total params: 6,196,031\n",
            "Trainable params: 6,196,031\n",
            "Non-trainable params: 0\n",
            "_________________________________________________________________\n"
          ],
          "name": "stdout"
        }
      ]
    },
    {
      "cell_type": "code",
      "metadata": {
        "id": "O_L_wdid2YzQ"
      },
      "source": [
        "#initialize the callback for early stopping the training if there is not at least 1% improvement in the accuracy \n",
        "from tensorflow.keras.callbacks import EarlyStopping\n",
        "es = EarlyStopping(monitor = 'acc', min_delta=0.05)"
      ],
      "execution_count": 80,
      "outputs": []
    },
    {
      "cell_type": "code",
      "metadata": {
        "id": "PAyKsdQtHxkk",
        "colab": {
          "base_uri": "https://localhost:8080/"
        },
        "outputId": "3ecb77a3-3b8c-4b8b-eb5b-60d547c5099d"
      },
      "source": [
        "history = model.fit(x, y, epochs=20, verbose=1, batch_size=512,callbacks=[es])"
      ],
      "execution_count": 82,
      "outputs": [
        {
          "output_type": "stream",
          "text": [
            "Epoch 1/20\n",
            "199/199 [==============================] - 9s 44ms/step - loss: 5.3298 - acc: 0.1409\n",
            "Epoch 2/20\n",
            "199/199 [==============================] - 9s 44ms/step - loss: 4.7892 - acc: 0.1714\n",
            "Epoch 3/20\n",
            "199/199 [==============================] - 9s 44ms/step - loss: 4.2685 - acc: 0.2007\n",
            "Epoch 4/20\n",
            "199/199 [==============================] - 9s 45ms/step - loss: 3.7593 - acc: 0.2466\n",
            "Epoch 5/20\n",
            "199/199 [==============================] - 9s 45ms/step - loss: 3.3044 - acc: 0.2980\n",
            "Epoch 6/20\n",
            "199/199 [==============================] - 9s 44ms/step - loss: 2.9240 - acc: 0.3528\n",
            "Epoch 7/20\n",
            "199/199 [==============================] - 9s 45ms/step - loss: 2.6093 - acc: 0.4050\n",
            "Epoch 8/20\n",
            "199/199 [==============================] - 9s 45ms/step - loss: 2.3550 - acc: 0.4494\n",
            "Epoch 9/20\n",
            "199/199 [==============================] - 9s 45ms/step - loss: 2.1407 - acc: 0.4900\n",
            "Epoch 10/20\n",
            "199/199 [==============================] - 9s 44ms/step - loss: 1.9688 - acc: 0.5235\n",
            "Epoch 11/20\n",
            "199/199 [==============================] - 9s 44ms/step - loss: 1.8337 - acc: 0.5508\n",
            "Epoch 12/20\n",
            "199/199 [==============================] - 9s 44ms/step - loss: 1.6999 - acc: 0.5773\n",
            "Epoch 13/20\n",
            "199/199 [==============================] - 9s 44ms/step - loss: 1.6145 - acc: 0.5933\n",
            "Epoch 14/20\n",
            "199/199 [==============================] - 9s 44ms/step - loss: 1.5251 - acc: 0.6137\n",
            "Epoch 15/20\n",
            "199/199 [==============================] - 9s 45ms/step - loss: 1.4603 - acc: 0.6265\n",
            "Epoch 16/20\n",
            "199/199 [==============================] - 9s 45ms/step - loss: 1.4263 - acc: 0.6314\n",
            "Epoch 17/20\n",
            "199/199 [==============================] - 9s 45ms/step - loss: 1.3658 - acc: 0.6439\n",
            "Epoch 18/20\n",
            "199/199 [==============================] - 9s 44ms/step - loss: 1.3252 - acc: 0.6533\n",
            "Epoch 19/20\n",
            "199/199 [==============================] - 9s 45ms/step - loss: 1.2746 - acc: 0.6650\n",
            "Epoch 20/20\n",
            "199/199 [==============================] - 9s 44ms/step - loss: 1.2317 - acc: 0.6750\n"
          ],
          "name": "stdout"
        }
      ]
    },
    {
      "cell_type": "code",
      "metadata": {
        "id": "sKmppR6VRUwf",
        "colab": {
          "base_uri": "https://localhost:8080/"
        },
        "outputId": "8c3eafc7-f263-4526-e6f6-c23e7e5c7780"
      },
      "source": [
        "#Time to become storyteller!\n",
        "seed_text = \"I could not help laughing at the ease with which he explained his process of deduction\"          \n",
        "next_words = 100\n",
        "  \n",
        "for _ in range(next_words):\n",
        "  sequence = tokenizer.texts_to_sequences([seed_text])\n",
        "  padded = pad_sequences(sequence, maxlen=max_seq_len-1)\n",
        "  predicted = model.predict_classes(padded, verbose=0)\n",
        "  output_word = ''\n",
        "  for word, index in tokenizer.word_index.items():\n",
        "    if index == predicted:\n",
        "      output_word = word\n",
        "      break\n",
        "  seed_text += ' ' + output_word\n",
        "print(seed_text)"
      ],
      "execution_count": 83,
      "outputs": [
        {
          "output_type": "stream",
          "text": [
            "/usr/local/lib/python3.7/dist-packages/tensorflow/python/keras/engine/sequential.py:455: UserWarning: `model.predict_classes()` is deprecated and will be removed after 2021-01-01. Please use instead:* `np.argmax(model.predict(x), axis=-1)`,   if your model does multi-class classification   (e.g. if it uses a `softmax` last-layer activation).* `(model.predict(x) > 0.5).astype(\"int32\")`,   if your model does binary classification   (e.g. if it uses a `sigmoid` last-layer activation).\n",
            "  warnings.warn('`model.predict_classes()` is deprecated and '\n"
          ],
          "name": "stderr"
        },
        {
          "output_type": "stream",
          "text": [
            "I could not help laughing at the ease with which he explained his process of deduction into me for his hand he had a great good a gentleman with which i could not help the truth the reason easier to you lestrade ” drawled holmes up his head on his hand and a with a gesture of a man who is very much superior to the very strong language to his son and he was very kind in it and was the only thought so of the very fact that i am ready to find a little more i will leave in the city again but i can not ask it to you the name of\n"
          ],
          "name": "stdout"
        }
      ]
    },
    {
      "cell_type": "code",
      "metadata": {
        "id": "xx1NNNxMILmW",
        "colab": {
          "base_uri": "https://localhost:8080/",
          "height": 545
        },
        "outputId": "9889d691-8e8f-44f3-ece8-292c1113b294"
      },
      "source": [
        "#let's look at how loss and accuracy changed while training\n",
        "import matplotlib.pyplot as plt\n",
        "# history = model.history\n",
        "acc = history.history['acc']\n",
        "loss = history.history['loss']\n",
        "\n",
        "epochs = range(len(acc))\n",
        "\n",
        "plt.plot(epochs, acc, 'b', label='Training accuracy')\n",
        "plt.title('Training accuracy')\n",
        "\n",
        "plt.figure()\n",
        "\n",
        "plt.plot(epochs, loss, 'b', label='Training Loss')\n",
        "plt.title('Training loss')\n",
        "plt.legend()\n",
        "\n",
        "plt.show()"
      ],
      "execution_count": 84,
      "outputs": [
        {
          "output_type": "display_data",
          "data": {
            "image/png": "[encoded data removed]",
            "text/plain": [
              "<Figure size 432x288 with 1 Axes>"
            ]
          },
          "metadata": {
            "tags": [],
            "needs_background": "light"
          }
        },
        {
          "output_type": "display_data",
          "data": {
            "image/png": "[encoded data removed]",
            "text/plain": [
              "<Figure size 432x288 with 1 Axes>"
            ]
          },
          "metadata": {
            "tags": [],
            "needs_background": "light"
          }
        }
      ]
    },
    {
      "cell_type": "code",
      "metadata": {
        "id": "hcLFAvC57eue"
      },
      "source": [
        ""
      ],
      "execution_count": null,
      "outputs": []
    }
  ]
}