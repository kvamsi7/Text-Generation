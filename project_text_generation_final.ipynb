{
  "nbformat": 4,
  "nbformat_minor": 0,
  "metadata": {
    "colab": {
      "name": "project_text_generation_final.ipynb",
      "provenance": [],
      "collapsed_sections": [],
      "machine_shape": "hm",
      "include_colab_link": true
    },
    "kernelspec": {
      "name": "python3",
      "display_name": "Python 3"
    },
    "accelerator": "GPU"
  },
  "cells": [
    {
      "cell_type": "markdown",
      "metadata": {
        "id": "view-in-github",
        "colab_type": "text"
      },
      "source": [
        "<a href=\"https://colab.research.google.com/github/kvamsi7/Text-Generation/blob/main/project_text_generation_final.ipynb\" target=\"_parent\"><img src=\"https://colab.research.google.com/assets/colab-badge.svg\" alt=\"Open In Colab\"/></a>"
      ]
    },
    {
      "cell_type": "code",
      "metadata": {
        "id": "oZNHqp5lnxz7",
        "colab": {
          "base_uri": "https://localhost:8080/"
        },
        "outputId": "4eee075e-0e0a-4edd-83e3-efb0e4f4a436"
      },
      "source": [
        "#download the data and save it to poem.txt\n",
        "!wget https://www.gutenberg.org/files/1661/1661-0.txt -O book.txt"
      ],
      "execution_count": 1,
      "outputs": [
        {
          "output_type": "stream",
          "text": [
            "--2021-08-04 07:39:29--  https://www.gutenberg.org/files/1661/1661-0.txt\n",
            "Resolving www.gutenberg.org (www.gutenberg.org)... 152.19.134.47, 2610:28:3090:3000:0:bad:cafe:47\n",
            "Connecting to www.gutenberg.org (www.gutenberg.org)|152.19.134.47|:443... connected.\n",
            "HTTP request sent, awaiting response... 200 OK\n",
            "Length: 607430 (593K) [text/plain]\n",
            "Saving to: ‘book.txt’\n",
            "\n",
            "book.txt            100%[===================>] 593.19K  1.27MB/s    in 0.5s    \n",
            "\n",
            "2021-08-04 07:39:31 (1.27 MB/s) - ‘book.txt’ saved [607430/607430]\n",
            "\n"
          ],
          "name": "stdout"
        }
      ]
    },
    {
      "cell_type": "code",
      "metadata": {
        "id": "iHLcaBBEoLRd"
      },
      "source": [
        "#read the file in text string\n",
        "text = open('book.txt', 'r', encoding='utf-8').read()\n",
        "text = text.lower()"
      ],
      "execution_count": 2,
      "outputs": []
    },
    {
      "cell_type": "code",
      "metadata": {
        "id": "NbUq1oKCotPP"
      },
      "source": [
        "#create list of sentences\n",
        "sentences = text.split('\\n')"
      ],
      "execution_count": 3,
      "outputs": []
    },
    {
      "cell_type": "code",
      "metadata": {
        "id": "CS0-TSEE5RZL"
      },
      "source": [
        "#import dependencies to preprocess the text data and making sequences\n",
        "import tensorflow as tf\n",
        "import keras\n",
        "from keras.preprocessing.text import Tokenizer\n",
        "from keras.preprocessing.sequence import pad_sequences"
      ],
      "execution_count": 4,
      "outputs": []
    },
    {
      "cell_type": "code",
      "metadata": {
        "id": "60_eT7er5qhQ"
      },
      "source": [
        "#initialize the tokenizer, which can work char by char\n",
        "tokenizer = Tokenizer(oov_token='<UNK>')"
      ],
      "execution_count": 5,
      "outputs": []
    },
    {
      "cell_type": "code",
      "metadata": {
        "id": "NQ-PNcaNAeCW"
      },
      "source": [
        "tokenizer.fit_on_texts(sentences)"
      ],
      "execution_count": 6,
      "outputs": []
    },
    {
      "cell_type": "code",
      "metadata": {
        "id": "3qu1rTY7NCxI",
        "colab": {
          "base_uri": "https://localhost:8080/"
        },
        "outputId": "9eafe20d-3f24-4e81-c6c8-adc818a325e5"
      },
      "source": [
        "vocab_size = len(tokenizer.word_index) + 1\n",
        "vocab_size"
      ],
      "execution_count": 7,
      "outputs": [
        {
          "output_type": "execute_result",
          "data": {
            "text/plain": [
              "8915"
            ]
          },
          "metadata": {
            "tags": []
          },
          "execution_count": 7
        }
      ]
    },
    {
      "cell_type": "code",
      "metadata": {
        "id": "ijgFGdsTGzPw"
      },
      "source": [
        "sequences = tokenizer.texts_to_sequences(sentences)"
      ],
      "execution_count": 9,
      "outputs": []
    },
    {
      "cell_type": "code",
      "metadata": {
        "id": "RaFyCfGE-vSi"
      },
      "source": [
        "input_sequences = []\n",
        "for sequence in sequences:\n",
        "  for i in range(1, len(sequence)):\n",
        "    n_gram_sequence = sequence[:i+1]\n",
        "    input_sequences.append(n_gram_sequence)"
      ],
      "execution_count": 10,
      "outputs": []
    },
    {
      "cell_type": "code",
      "metadata": {
        "id": "J5RZLLmsAipB",
        "colab": {
          "base_uri": "https://localhost:8080/"
        },
        "outputId": "b582a4eb-3f1b-43a9-f7b8-33a5312aaec3"
      },
      "source": [
        "print(input_sequences[0], input_sequences[1], input_sequences[2], input_sequences[3])"
      ],
      "execution_count": 11,
      "outputs": [
        {
          "output_type": "stream",
          "text": [
            "[4775, 145] [4775, 145, 132] [4775, 145, 132, 886] [4775, 145, 132, 886, 5]\n"
          ],
          "name": "stdout"
        }
      ]
    },
    {
      "cell_type": "code",
      "metadata": {
        "id": "-3mHT6TUBApU",
        "colab": {
          "base_uri": "https://localhost:8080/"
        },
        "outputId": "f7e37a34-f3e7-445f-af91-bba81583eda9"
      },
      "source": [
        "#find the maximum length among sequences\n",
        "max_seq_len = max([len(seq) for seq in input_sequences])\n",
        "max_seq_len"
      ],
      "execution_count": 12,
      "outputs": [
        {
          "output_type": "execute_result",
          "data": {
            "text/plain": [
              "20"
            ]
          },
          "metadata": {
            "tags": []
          },
          "execution_count": 12
        }
      ]
    },
    {
      "cell_type": "code",
      "metadata": {
        "id": "mJXOYpf3nI0H"
      },
      "source": [
        "#we will keep the last value of the sequence as our target label and all values before that as input to sequence model"
      ],
      "execution_count": 13,
      "outputs": []
    },
    {
      "cell_type": "code",
      "metadata": {
        "id": "r8mnnT6nBi5K"
      },
      "source": [
        "#pad the sequences to ensure that they are all of same length\n",
        "padded_sequences = pad_sequences(input_sequences, maxlen = max_seq_len)"
      ],
      "execution_count": 14,
      "outputs": []
    },
    {
      "cell_type": "code",
      "metadata": {
        "id": "GpvirsLgWPoU",
        "colab": {
          "base_uri": "https://localhost:8080/"
        },
        "outputId": "f8deb7c8-ad50-4732-f2b0-33225e4fc6c5"
      },
      "source": [
        "print(padded_sequences[0], padded_sequences[1])"
      ],
      "execution_count": 15,
      "outputs": [
        {
          "output_type": "stream",
          "text": [
            "[   0    0    0    0    0    0    0    0    0    0    0    0    0    0\n",
            "    0    0    0    0 4775  145] [   0    0    0    0    0    0    0    0    0    0    0    0    0    0\n",
            "    0    0    0 4775  145  132]\n"
          ],
          "name": "stdout"
        }
      ]
    },
    {
      "cell_type": "code",
      "metadata": {
        "id": "YYhboOBWCLb3"
      },
      "source": [
        "import numpy as np\n",
        "padded_sequences = np.array(padded_sequences)"
      ],
      "execution_count": 16,
      "outputs": []
    },
    {
      "cell_type": "code",
      "metadata": {
        "id": "8BW2NjBcCjLz",
        "colab": {
          "base_uri": "https://localhost:8080/"
        },
        "outputId": "378d84c1-c59d-4d32-edd4-e10ea6fc2fd7"
      },
      "source": [
        "print(len(padded_sequences[0]))\n",
        "print(len(padded_sequences[1]))"
      ],
      "execution_count": 17,
      "outputs": [
        {
          "output_type": "stream",
          "text": [
            "20\n",
            "20\n"
          ],
          "name": "stdout"
        }
      ]
    },
    {
      "cell_type": "code",
      "metadata": {
        "id": "KdvK9urMCZXC"
      },
      "source": [
        "#prepare training sequences and labels\n",
        "x = padded_sequences[:, : -1]\n",
        "labels = padded_sequences[:, -1]"
      ],
      "execution_count": 18,
      "outputs": []
    },
    {
      "cell_type": "code",
      "metadata": {
        "id": "zBMmN6-qMqKu",
        "colab": {
          "base_uri": "https://localhost:8080/"
        },
        "outputId": "199017ff-4f6e-4769-b91d-4c903160804c"
      },
      "source": [
        "labels.shape"
      ],
      "execution_count": 19,
      "outputs": [
        {
          "output_type": "execute_result",
          "data": {
            "text/plain": [
              "(101575,)"
            ]
          },
          "metadata": {
            "tags": []
          },
          "execution_count": 19
        }
      ]
    },
    {
      "cell_type": "code",
      "metadata": {
        "id": "wvrPC8n5Dw61"
      },
      "source": [
        "#to one hot encode the labels\n",
        "y = tf.keras.utils.to_categorical(labels, num_classes=vocab_size)"
      ],
      "execution_count": 20,
      "outputs": []
    },
    {
      "cell_type": "code",
      "metadata": {
        "id": "ncT36ipmJaqR",
        "colab": {
          "base_uri": "https://localhost:8080/"
        },
        "outputId": "1883ead0-c06b-4da3-9c63-b94a24b6c32e"
      },
      "source": [
        "x.shape"
      ],
      "execution_count": 21,
      "outputs": [
        {
          "output_type": "execute_result",
          "data": {
            "text/plain": [
              "(101575, 19)"
            ]
          },
          "metadata": {
            "tags": []
          },
          "execution_count": 21
        }
      ]
    },
    {
      "cell_type": "code",
      "metadata": {
        "id": "AIdAL56IcTXW"
      },
      "source": [
        "#x = x.reshape(x.shape[0], x.shape[1], 1)"
      ],
      "execution_count": 22,
      "outputs": []
    },
    {
      "cell_type": "code",
      "metadata": {
        "id": "dSSjSqj-JXrU",
        "colab": {
          "base_uri": "https://localhost:8080/"
        },
        "outputId": "7fa02ace-87ec-484b-9c20-3e37c25d365d"
      },
      "source": [
        "y.shape"
      ],
      "execution_count": 23,
      "outputs": [
        {
          "output_type": "execute_result",
          "data": {
            "text/plain": [
              "(101575, 8915)"
            ]
          },
          "metadata": {
            "tags": []
          },
          "execution_count": 23
        }
      ]
    },
    {
      "cell_type": "code",
      "metadata": {
        "id": "G6H2aOeJGIfG"
      },
      "source": [
        "#import dependencies for defining the model\n",
        "from tensorflow.keras.models import Sequential\n",
        "from tensorflow.keras.layers import Embedding, Bidirectional, LSTM, Dense\n",
        "from tensorflow.keras.optimizers import Adam"
      ],
      "execution_count": 24,
      "outputs": []
    },
    {
      "cell_type": "code",
      "metadata": {
        "id": "NKJVkDw8GxCH",
        "colab": {
          "base_uri": "https://localhost:8080/"
        },
        "outputId": "4289e7f3-f90b-4969-ea09-32d51cc2d48b"
      },
      "source": [
        "#define and compile the model\n",
        "model = Sequential()\n",
        "model.add(Embedding(vocab_size, 100, input_length=max_seq_len-1))\n",
        "model.add(Bidirectional(LSTM(256)))\n",
        "model.add(Dense(vocab_size, activation='softmax'))\n",
        "adam = Adam(learning_rate=0.01)\n",
        "model.compile(loss='categorical_crossentropy', optimizer=adam, metrics=['acc'])\n",
        "model.summary()"
      ],
      "execution_count": 25,
      "outputs": [
        {
          "output_type": "stream",
          "text": [
            "Model: \"sequential\"\n",
            "_________________________________________________________________\n",
            "Layer (type)                 Output Shape              Param #   \n",
            "=================================================================\n",
            "embedding (Embedding)        (None, 19, 100)           891500    \n",
            "_________________________________________________________________\n",
            "bidirectional (Bidirectional (None, 512)               731136    \n",
            "_________________________________________________________________\n",
            "dense (Dense)                (None, 8915)              4573395   \n",
            "=================================================================\n",
            "Total params: 6,196,031\n",
            "Trainable params: 6,196,031\n",
            "Non-trainable params: 0\n",
            "_________________________________________________________________\n"
          ],
          "name": "stdout"
        }
      ]
    },
    {
      "cell_type": "code",
      "metadata": {
        "id": "O_L_wdid2YzQ"
      },
      "source": [
        "#initialize the callback for early stopping the training if there is not at least 1% improvement in the accuracy \n",
        "from tensorflow.keras.callbacks import EarlyStopping\n",
        "es = EarlyStopping(monitor = 'acc', min_delta=0.01)"
      ],
      "execution_count": 26,
      "outputs": []
    },
    {
      "cell_type": "code",
      "metadata": {
        "id": "PAyKsdQtHxkk",
        "colab": {
          "base_uri": "https://localhost:8080/"
        },
        "outputId": "0f42d5a4-2e07-4061-d8ba-7d66f81e3eac"
      },
      "source": [
        "model.fit(x, y, epochs=50, verbose=1, batch_size=512, callbacks=[es])"
      ],
      "execution_count": 27,
      "outputs": [
        {
          "output_type": "stream",
          "text": [
            "Epoch 1/50\n",
            "199/199 [==============================] - 24s 79ms/step - loss: 6.1950 - acc: 0.0859\n"
          ],
          "name": "stdout"
        },
        {
          "output_type": "execute_result",
          "data": {
            "text/plain": [
              "<tensorflow.python.keras.callbacks.History at 0x7f16e014f090>"
            ]
          },
          "metadata": {
            "tags": []
          },
          "execution_count": 27
        }
      ]
    },
    {
      "cell_type": "code",
      "metadata": {
        "id": "sKmppR6VRUwf"
      },
      "source": [
        "#Time to become storyteller!\n",
        "seed_text = \"I could not help laughing at the ease with which he explained his process of deduction\"          \n",
        "next_words = 100\n",
        "  \n",
        "for _ in range(next_words):\n",
        "  sequence = tokenizer.texts_to_sequences([seed_text])\n",
        "  padded = pad_sequences(sequence, maxlen=max_seq_len-1)\n",
        "  predicted = model.predict_classes(padded, verbose=0)\n",
        "  output_word = ''\n",
        "  for word, index in tokenizer.word_index.items():\n",
        "    if index == predicted:\n",
        "      output_word = word\n",
        "      break\n",
        "  seed_text += ' ' + output_word\n",
        "print(seed_text)"
      ],
      "execution_count": null,
      "outputs": []
    },
    {
      "cell_type": "code",
      "metadata": {
        "id": "xx1NNNxMILmW"
      },
      "source": [
        "#let's look at how loss and accuracy changed while training\n",
        "import matplotlib.pyplot as plt\n",
        "history = model.history\n",
        "acc = history.history['acc']\n",
        "loss = history.history['loss']\n",
        "\n",
        "epochs = range(len(acc))\n",
        "\n",
        "plt.plot(epochs, acc, 'b', label='Training accuracy')\n",
        "plt.title('Training accuracy')\n",
        "\n",
        "plt.figure()\n",
        "\n",
        "plt.plot(epochs, loss, 'b', label='Training Loss')\n",
        "plt.title('Training loss')\n",
        "plt.legend()\n",
        "\n",
        "plt.show()"
      ],
      "execution_count": null,
      "outputs": []
    }
  ]
}