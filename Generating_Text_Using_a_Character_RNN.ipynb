{
  "nbformat": 4,
  "nbformat_minor": 5,
  "metadata": {
    "kernelspec": {
      "display_name": "Python 3 (ipykernel)",
      "language": "python",
      "name": "python3"
    },
    "language_info": {
      "codemirror_mode": {
        "name": "ipython",
        "version": 3
      },
      "file_extension": ".py",
      "mimetype": "text/x-python",
      "name": "python",
      "nbconvert_exporter": "python",
      "pygments_lexer": "ipython3",
      "version": "3.8.12"
    },
    "colab": {
      "name": "Generating Text Using a Character RNN.ipynb",
      "provenance": [],
      "include_colab_link": true
    },
    "accelerator": "GPU"
  },
  "cells": [
    {
      "cell_type": "markdown",
      "metadata": {
        "id": "view-in-github",
        "colab_type": "text"
      },
      "source": [
        "<a href=\"https://colab.research.google.com/github/kvamsi7/Text-Generation/blob/main/Generating_Text_Using_a_Character_RNN.ipynb\" target=\"_parent\"><img src=\"https://colab.research.google.com/assets/colab-badge.svg\" alt=\"Open In Colab\"/></a>"
      ]
    },
    {
      "cell_type": "code",
      "metadata": {
        "id": "54fde543"
      },
      "source": [
        "import tensorflow as tf\n",
        "from tensorflow import keras\n",
        "\n",
        "# common imports\n",
        "import numpy as np\n",
        "import pandas as pd"
      ],
      "id": "54fde543",
      "execution_count": 1,
      "outputs": []
    },
    {
      "cell_type": "code",
      "metadata": {
        "colab": {
          "base_uri": "https://localhost:8080/"
        },
        "id": "860e2b8e",
        "outputId": "7245edba-b2af-467a-c886-b17235a9c670"
      },
      "source": [
        "shakespeare_url = \"https://raw.githubusercontent.com/karpathy/char-rnn/master/data/tinyshakespeare/input.txt\"\n",
        "file_path = keras.utils.get_file('shakespeare.txt',shakespeare_url)"
      ],
      "id": "860e2b8e",
      "execution_count": 2,
      "outputs": [
        {
          "output_type": "stream",
          "name": "stdout",
          "text": [
            "Downloading data from https://raw.githubusercontent.com/karpathy/char-rnn/master/data/tinyshakespeare/input.txt\n",
            "1122304/1115394 [==============================] - 0s 0us/step\n",
            "1130496/1115394 [==============================] - 0s 0us/step\n"
          ]
        }
      ]
    },
    {
      "cell_type": "code",
      "metadata": {
        "id": "d70e4396"
      },
      "source": [
        "with open(file_path) as f:\n",
        "    shakespeare_text = f.read()"
      ],
      "id": "d70e4396",
      "execution_count": 3,
      "outputs": []
    },
    {
      "cell_type": "code",
      "metadata": {
        "colab": {
          "base_uri": "https://localhost:8080/"
        },
        "id": "237716a4",
        "outputId": "436d025a-44a5-474b-9593-81a394b5eaee"
      },
      "source": [
        "print(shakespeare_text[:148])"
      ],
      "id": "237716a4",
      "execution_count": 4,
      "outputs": [
        {
          "output_type": "stream",
          "name": "stdout",
          "text": [
            "First Citizen:\n",
            "Before we proceed any further, hear me speak.\n",
            "\n",
            "All:\n",
            "Speak, speak.\n",
            "\n",
            "First Citizen:\n",
            "You are all resolved rather to die than to famish?\n",
            "\n"
          ]
        }
      ]
    },
    {
      "cell_type": "code",
      "metadata": {
        "colab": {
          "base_uri": "https://localhost:8080/",
          "height": 35
        },
        "id": "b311c376",
        "outputId": "0ac4596d-f166-441b-a46e-5b2eb0982020"
      },
      "source": [
        "\"\".join(sorted(set(shakespeare_text.lower())))"
      ],
      "id": "b311c376",
      "execution_count": 5,
      "outputs": [
        {
          "output_type": "execute_result",
          "data": {
            "application/vnd.google.colaboratory.intrinsic+json": {
              "type": "string"
            },
            "text/plain": [
              "\"\\n !$&',-.3:;?abcdefghijklmnopqrstuvwxyz\""
            ]
          },
          "metadata": {},
          "execution_count": 5
        }
      ]
    },
    {
      "cell_type": "markdown",
      "metadata": {
        "id": "a29e609f"
      },
      "source": [
        "#### Fitting a tokenizer to the text"
      ],
      "id": "a29e609f"
    },
    {
      "cell_type": "code",
      "metadata": {
        "id": "9c53c762"
      },
      "source": [
        "tokenizer = keras.preprocessing.text.Tokenizer(char_level=True)\n",
        "tokenizer.fit_on_texts(shakespeare_text)"
      ],
      "id": "9c53c762",
      "execution_count": 6,
      "outputs": []
    },
    {
      "cell_type": "code",
      "metadata": {
        "colab": {
          "base_uri": "https://localhost:8080/"
        },
        "id": "3ad45417",
        "outputId": "9573e441-233f-41f5-f313-9271788e839c"
      },
      "source": [
        "# Now the tokenizer object can convert the text to sequences or sequences to text\n",
        "\n",
        "print(tokenizer.texts_to_sequences([\"First\"]))\n",
        "\n",
        "print(tokenizer.sequences_to_texts([[20,6,9,8,3]]))"
      ],
      "id": "3ad45417",
      "execution_count": 7,
      "outputs": [
        {
          "output_type": "stream",
          "name": "stdout",
          "text": [
            "[[20, 6, 9, 8, 3]]\n",
            "['f i r s t']\n"
          ]
        }
      ]
    },
    {
      "cell_type": "code",
      "metadata": {
        "colab": {
          "base_uri": "https://localhost:8080/"
        },
        "id": "c251c6ed",
        "outputId": "7ff2a8cc-6c70-47f3-8a4a-521281fd5724"
      },
      "source": [
        "# TOTAL NUMBER OF UNIQUE CHARACTERS\n",
        "\n",
        "max_id = len(tokenizer.word_index)\n",
        "max_id"
      ],
      "id": "c251c6ed",
      "execution_count": 8,
      "outputs": [
        {
          "output_type": "execute_result",
          "data": {
            "text/plain": [
              "39"
            ]
          },
          "metadata": {},
          "execution_count": 8
        }
      ]
    },
    {
      "cell_type": "code",
      "metadata": {
        "colab": {
          "base_uri": "https://localhost:8080/"
        },
        "id": "3974c59e",
        "outputId": "05b97bcf-bf11-4a5e-ba05-5f9edfe2c2e1"
      },
      "source": [
        "# TOTAL NUMBER OF CHARACTERS IN THE FILE\n",
        "\n",
        "dataset_size = tokenizer.document_count\n",
        "dataset_size"
      ],
      "id": "3974c59e",
      "execution_count": 9,
      "outputs": [
        {
          "output_type": "execute_result",
          "data": {
            "text/plain": [
              "1115394"
            ]
          },
          "metadata": {},
          "execution_count": 9
        }
      ]
    },
    {
      "cell_type": "code",
      "metadata": {
        "id": "e545b143"
      },
      "source": [
        "# Encoding the whole text, each character will be represented by its ID\n",
        "\n",
        "[encoded] = np.array(tokenizer.texts_to_sequences([shakespeare_text])) - 1 # (we subtract 1 to get IDs from 0 to 38 rather 1 to 39)"
      ],
      "id": "e545b143",
      "execution_count": 10,
      "outputs": []
    },
    {
      "cell_type": "markdown",
      "metadata": {
        "id": "4e1cb1b9"
      },
      "source": [
        "#### Splitting a Sequential Dataset"
      ],
      "id": "4e1cb1b9"
    },
    {
      "cell_type": "code",
      "metadata": {
        "id": "864ecfd4"
      },
      "source": [
        "train_size = dataset_size * 90 // 100\n",
        "dataset = tf.data.Dataset.from_tensor_slices(encoded[:train_size])"
      ],
      "id": "864ecfd4",
      "execution_count": 11,
      "outputs": []
    },
    {
      "cell_type": "markdown",
      "metadata": {
        "id": "13619f77"
      },
      "source": [
        "#### chopping the sequential dataset into multiple windows"
      ],
      "id": "13619f77"
    },
    {
      "cell_type": "code",
      "metadata": {
        "id": "98b2c16e"
      },
      "source": [
        "n_steps = 100\n",
        "window_length = n_steps + 1 # target = input shifted 1 character ahead\n",
        "dataset = dataset.window(window_length,shift=1,drop_remainder=True)"
      ],
      "id": "98b2c16e",
      "execution_count": 12,
      "outputs": []
    },
    {
      "cell_type": "code",
      "metadata": {
        "id": "ea04d9f0"
      },
      "source": [
        "dataset = dataset.flat_map(lambda window: window.batch(window_length))"
      ],
      "id": "ea04d9f0",
      "execution_count": 13,
      "outputs": []
    },
    {
      "cell_type": "code",
      "metadata": {
        "id": "e0f40bd7"
      },
      "source": [
        "batch_size = 32\n",
        "\n",
        "dataset = dataset.shuffle(1000).batch(batch_size)\n",
        "dataset = dataset.map(lambda windows: (windows[:,:-1],windows[:,1:]))"
      ],
      "id": "e0f40bd7",
      "execution_count": 14,
      "outputs": []
    },
    {
      "cell_type": "markdown",
      "metadata": {
        "id": "73cc92fe"
      },
      "source": [
        "#### Encoding the categorical input features"
      ],
      "id": "73cc92fe"
    },
    {
      "cell_type": "code",
      "metadata": {
        "id": "7923a7cb"
      },
      "source": [
        "dataset = dataset.map(lambda X_batch,Y_batch: (tf.one_hot(X_batch,depth=max_id),Y_batch))"
      ],
      "id": "7923a7cb",
      "execution_count": 15,
      "outputs": []
    },
    {
      "cell_type": "code",
      "metadata": {
        "id": "9da84359"
      },
      "source": [
        "dataset = dataset.prefetch(1)"
      ],
      "id": "9da84359",
      "execution_count": 16,
      "outputs": []
    },
    {
      "cell_type": "code",
      "metadata": {
        "colab": {
          "base_uri": "https://localhost:8080/"
        },
        "id": "17b9bb2d",
        "outputId": "e619b21c-d50c-4d42-a5b3-be04ec00d54e"
      },
      "source": [
        "for X_batch,Y_batch in dataset.take(1):\n",
        "    print(X_batch.shape,Y_batch.shape)"
      ],
      "id": "17b9bb2d",
      "execution_count": 17,
      "outputs": [
        {
          "output_type": "stream",
          "name": "stdout",
          "text": [
            "(32, 100, 39) (32, 100)\n"
          ]
        }
      ]
    },
    {
      "cell_type": "markdown",
      "metadata": {
        "id": "e180bc8e"
      },
      "source": [
        "#### Building and Training the Char_RNN Model"
      ],
      "id": "e180bc8e"
    },
    {
      "cell_type": "code",
      "metadata": {
        "colab": {
          "base_uri": "https://localhost:8080/"
        },
        "id": "4a24b282",
        "outputId": "b5dd409c-525c-4a5b-8d18-a1dc1d15fb9f"
      },
      "source": [
        "model = keras.models.Sequential([\n",
        "    keras.layers.GRU(128,return_sequences = True,input_shape=[None,max_id],\n",
        "                    dropout=0.2,recurrent_dropout = 0.2),\n",
        "    keras.layers.GRU(128,return_sequences = True,\n",
        "                    dropout=0.2,recurrent_dropout = 0.2),\n",
        "    keras.layers.TimeDistributed(keras.layers.Dense(max_id,activation=\"softmax\"))\n",
        "])\n",
        "\n",
        "model.compile(loss=\"sparse_categorical_crossentropy\",optimizer = 'adam')\n",
        "model.summary()"
      ],
      "id": "4a24b282",
      "execution_count": 18,
      "outputs": [
        {
          "output_type": "stream",
          "name": "stdout",
          "text": [
            "Model: \"sequential\"\n",
            "_________________________________________________________________\n",
            "Layer (type)                 Output Shape              Param #   \n",
            "=================================================================\n",
            "gru (GRU)                    (None, None, 128)         64896     \n",
            "_________________________________________________________________\n",
            "gru_1 (GRU)                  (None, None, 128)         99072     \n",
            "_________________________________________________________________\n",
            "time_distributed (TimeDistri (None, None, 39)          5031      \n",
            "=================================================================\n",
            "Total params: 168,999\n",
            "Trainable params: 168,999\n",
            "Non-trainable params: 0\n",
            "_________________________________________________________________\n"
          ]
        }
      ]
    },
    {
      "cell_type": "code",
      "metadata": {
        "colab": {
          "base_uri": "https://localhost:8080/"
        },
        "id": "103e378d",
        "outputId": "4c850355-ceee-49f5-b519-563360385074"
      },
      "source": [
        "history = model.fit(dataset,epochs=20)\n",
        "\n",
        "# def train "
      ],
      "id": "103e378d",
      "execution_count": null,
      "outputs": [
        {
          "output_type": "stream",
          "name": "stdout",
          "text": [
            "Epoch 1/20\n",
            "  15964/Unknown - 7508s 470ms/step - loss: 1.5207"
          ]
        }
      ]
    },
    {
      "cell_type": "code",
      "metadata": {
        "id": "a75afbd3"
      },
      "source": [
        ""
      ],
      "id": "a75afbd3",
      "execution_count": null,
      "outputs": []
    }
  ]
}